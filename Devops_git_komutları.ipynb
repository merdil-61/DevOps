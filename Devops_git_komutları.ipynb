{
  "nbformat": 4,
  "nbformat_minor": 0,
  "metadata": {
    "colab": {
      "provenance": []
    },
    "kernelspec": {
      "name": "python3",
      "display_name": "Python 3"
    },
    "language_info": {
      "name": "python"
    }
  },
  "cells": [
    {
      "cell_type": "markdown",
      "source": [
        "##git komutları\n",
        "\n",
        "git clone <url> istediğin github dosyasındaki komutları alabilmek için kullanılır.\n",
        "\n",
        "\n",
        "git add <filename> Belirtilen dosyanın bir sonraki versiyona dahil edilmesi gerektiğini söyler.\n",
        "Örnek\n",
        "git add test.java\n",
        "\n",
        "git add* Bütün değişiklik yapılmış dosyaları dahil eder.\n",
        "\n",
        "\n",
        "git commit-m \"mesaj\"  Değişiklikleri yerel depoya yeni versiyon olarak kaydeder.\n",
        "\n",
        "-m versiyonu tarif etmek için kullanılır.\n",
        "\n",
        "Örnek git commit -m \"b'yi ekle\"\n",
        "\n",
        "\n",
        "git status Yerel deponun durumunu gösterir(verisyon yapılan değişiklik gösterir)\n",
        "\n",
        "git push<remote> <branch>\n",
        "\n",
        "-Değiştirilmiş versiyonları uzaktaki depoya gönderir.\n",
        "\n",
        "git pull<remote><branch>\n",
        "\n",
        "-Uzak depodaki değişiklikleri yerel depoya çeker.\n",
        "\n",
        "git log\n",
        "\n",
        "-Versiyon tarihini gösterir.\n",
        "\n",
        "\n",
        "git reset --hard<commit>\n",
        "\n",
        "-Kodu önceki bir versiyona geri döndürür.\n",
        "\n",
        "git branch\n",
        "\n",
        "-Bütün dalları gösterir.\n",
        "\n",
        "##Yeni dal oluşturmak için:\n",
        "\n",
        "git branch <dal_ismi>\n",
        "\n",
        "##Başka dala geçmek için:\n",
        "\n",
        "git chackout<dal_ismi>\n",
        "\n",
        "\n",
        "git merge\n",
        "\n",
        "git merge<dal_ismi>\n",
        "\n",
        "Şu anki dalı <dal_ismi> ile birleştirir.\n",
        "\n"
      ],
      "metadata": {
        "id": "cqg0N7aTe_u3"
      }
    }
  ]
}