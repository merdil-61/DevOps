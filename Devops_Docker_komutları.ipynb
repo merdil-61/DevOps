{
  "nbformat": 4,
  "nbformat_minor": 0,
  "metadata": {
    "colab": {
      "provenance": []
    },
    "kernelspec": {
      "name": "python3",
      "display_name": "Python 3"
    },
    "language_info": {
      "name": "python"
    }
  },
  "cells": [
    {
      "cell_type": "markdown",
      "source": [
        "docker build : Bir Dockerfile'dan imaj oluşturmaya yarar.\n",
        "\n",
        "docker run: Bir imajı izole bir konteynerde çalıştırır.\n",
        "docker ps: Konteyenrleri listeler.\n",
        "\n",
        "docker images(or docker image ls): İmajları listeler.\n",
        "\n",
        "\n",
        "\n",
        "Docker Registry, Docker imajlarını saklamak ve dağıtabilmek için kullanılan bir servistir.\n",
        "\n",
        "\n",
        "Docker Registry'i barındırmak için birçok platform vardır:\n",
        "\n",
        "-Docker Hub\n",
        "\n",
        "-Quay\n",
        "\n",
        "-Google Container Registry\n",
        "\n",
        "-Aws Container Registry\n",
        "\n",
        "-ACR(Azure Container Registry)\n",
        "\n",
        "-Harbor\n",
        "\n"
      ],
      "metadata": {
        "id": "wwEjFBJUloSJ"
      }
    },
    {
      "cell_type": "markdown",
      "source": [
        "##Bulutta DevOps\n",
        "\n",
        "docker Kubernates\n",
        "\n",
        "##Sağlayıcılar\n",
        "\n",
        "Azure, aws\n",
        "\n",
        "Amazon web services (aws)\n",
        "\n",
        "-Sürekli Entegrasyon ve Sürekli Teslim\n",
        "\n",
        "-Mikroservis Altyapıları\n",
        "\n",
        "-Kod olarak altyapı\n",
        "\n",
        "-İzleme ve günlük kaydı\n",
        "\n",
        "-Hizmet olarak platform\n",
        "\n",
        "-Sürüm denetimi\n",
        "\n",
        "##Azure\n",
        "\n",
        "-Azure Boards\n",
        "\n",
        "-Azure Pipelines\n",
        "\n",
        "-Azure Repos\n",
        "\n",
        "-Azure Test Plans\n",
        "\n",
        "-Azure Artifacts\n",
        "\n",
        "###Diğer Sağlayıcılar\n",
        "\n",
        "IBM Cloud,\n",
        "\n",
        "Google Cloud,\n",
        "\n",
        "Oracle Cloud,\n",
        "\n",
        "Alibaba Cloud\n",
        "\n",
        "\n",
        "\n"
      ],
      "metadata": {
        "id": "VEgRem-xm8WO"
      }
    },
    {
      "cell_type": "markdown",
      "source": [
        "##Orkestrasyon\n",
        "\n",
        "Popüler konteyner orkestrasyon araçları:\n",
        "\n",
        "Kubernetes,\n",
        "\n",
        "Swarm\n",
        "\n",
        "###Sunulan üç temel özellik\n",
        "\n",
        "Yüksek kullanılabilirlik\n",
        "\n",
        "Ölçeklenebilirlik\n",
        "\n",
        "Acil kurtarma\n",
        "\n",
        "\n",
        "##KUBERNETES\n",
        "\n",
        "Google'in dizayn ettiğ ve su an Cloud Native Computing Foundation tarafından devam ettirilen bir orkestrasyon aracıdır.\n",
        "\n",
        "Temel Kubernetes Bileşenleri:\n",
        "\n",
        "*Pop\n",
        "\n",
        "*Service\n",
        "\n",
        "*Ingress\n",
        "\n",
        "*ConfigMap\n",
        "*Secret\n",
        "\n",
        "base64 formatında şifrelenmiş olarak tutulur.\n",
        "\n",
        "\n",
        "*Deployment\n",
        "\n"
      ],
      "metadata": {
        "id": "28gQIp4PoUeZ"
      }
    }
  ]
}